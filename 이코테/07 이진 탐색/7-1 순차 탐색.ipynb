{
 "cells": [
  {
   "cell_type": "markdown",
   "source": [
    "# 순차 탐색\n",
    "1. Sequential Search\n",
    "2. 리스트 안에 있는 특정한 데이터를 찾기 위해 앞에서부터 데이터를 하나씩 차례대로 확인하는 방법\n",
    "3. count 메서드도 순차 탐색이 수행됨\n",
    "4. 최악의 시간복잡도는 O(N)을 가짐"
   ],
   "metadata": {}
  },
  {
   "cell_type": "code",
   "execution_count": 1,
   "source": [
    "def sequential_search(n, target, array):\n",
    "    for i in range(n):\n",
    "        if array[i] == target:\n",
    "            return i + 1 # 찾으면 해당하는 index반환\n",
    "\n",
    "N = 10\n",
    "arr = [1, 3, 5, 6, 7, 8, 9, 2, 4, 0]\n",
    "\n",
    "print(sequential_search(N, 7, arr))"
   ],
   "outputs": [
    {
     "output_type": "stream",
     "name": "stdout",
     "text": [
      "5\n"
     ]
    }
   ],
   "metadata": {}
  }
 ],
 "metadata": {
  "orig_nbformat": 4,
  "language_info": {
   "name": "python",
   "version": "3.8.10",
   "mimetype": "text/x-python",
   "codemirror_mode": {
    "name": "ipython",
    "version": 3
   },
   "pygments_lexer": "ipython3",
   "nbconvert_exporter": "python",
   "file_extension": ".py"
  },
  "kernelspec": {
   "name": "python3",
   "display_name": "Python 3.8.10 64-bit"
  },
  "interpreter": {
   "hash": "916dbcbb3f70747c44a77c7bcd40155683ae19c65e1c03b4aa3499c5328201f1"
  }
 },
 "nbformat": 4,
 "nbformat_minor": 2
}