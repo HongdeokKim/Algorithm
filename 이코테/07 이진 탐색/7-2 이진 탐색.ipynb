{
 "cells": [
  {
   "cell_type": "markdown",
   "source": [
    "# 이진 탐색\n",
    "1. 데이터가 이미 정렬되어 있다고 가정!\n",
    "2. 탐색 범위를 절반씩 좁혀가며 데이터를 탐색하는 특징\n",
    "3. 변수 3개 / 시작점, 끝점, 중간점\n",
    "4. 찾으려는 데이터와 중간점 위치에 있는 데이터를 반복적으로 비교하는 방법"
   ],
   "metadata": {}
  },
  {
   "cell_type": "markdown",
   "source": [
    "## 재귀 함수로 구현한 이진 탐색"
   ],
   "metadata": {}
  },
  {
   "cell_type": "code",
   "execution_count": 3,
   "source": [
    "def binary_search(array, target, start, end):\n",
    "    if start > end: # start가 end를 넘으면 전체 탐색 완료\n",
    "        return None\n",
    "    mid = (start + end) // 2 # 중간을 정함\n",
    "\n",
    "    if array[mid] == target:\n",
    "        return mid\n",
    "    elif array[mid] > target:\n",
    "        return binary_search(array, target, 0, mid - 1) # target보다 크게 위치하면 end를 mid아래로 내려서\n",
    "    else:\n",
    "        return binary_search(array, target, mid + 1, end) # target보다 작게 위치하면 start를 mid위로 내려서\n",
    "\n",
    "arr = [1, 3, 5, 7, 9, 10, 11, 13, 15]\n",
    "n = len(arr)\n",
    "tar = 10\n",
    "\n",
    "result = binary_search(arr, tar, 0, n - 1)\n",
    "if result == None:\n",
    "    print(\"None\")\n",
    "else:\n",
    "    print(result + 1) # index + 1\n",
    "\n"
   ],
   "outputs": [
    {
     "output_type": "stream",
     "name": "stdout",
     "text": [
      "6\n"
     ]
    }
   ],
   "metadata": {}
  },
  {
   "cell_type": "markdown",
   "source": [
    "## 반복문으로 구현한 이진 탐색"
   ],
   "metadata": {}
  },
  {
   "cell_type": "code",
   "execution_count": 6,
   "source": [
    "def binary_search(array, target, start, end):\n",
    "    while start <= end: # while은 실행조건을 의미\n",
    "        mid = (start + end) // 2\n",
    "\n",
    "        if array[mid] == target:\n",
    "            return mid\n",
    "        elif array[mid] > target:\n",
    "            end = mid - 1  # target보다 크게 위치하면 end를 mid아래로 내려서\n",
    "        else:\n",
    "            start = mid + 1 # target보다 작게 위치하면 start를 mid위로 내려서\n",
    "    return None\n",
    "\n",
    "arr = [1, 3, 5, 7, 9, 10, 11, 13, 15]\n",
    "n = len(arr)\n",
    "tar = 2\n",
    "\n",
    "result = binary_search(arr, tar, 0, n - 1)\n",
    "if result == None:\n",
    "    print(\"None\")\n",
    "else:\n",
    "    print(result + 1) # index + 1"
   ],
   "outputs": [
    {
     "output_type": "stream",
     "name": "stdout",
     "text": [
      "None\n"
     ]
    }
   ],
   "metadata": {}
  }
 ],
 "metadata": {
  "orig_nbformat": 4,
  "language_info": {
   "name": "python",
   "version": "3.8.10",
   "mimetype": "text/x-python",
   "codemirror_mode": {
    "name": "ipython",
    "version": 3
   },
   "pygments_lexer": "ipython3",
   "nbconvert_exporter": "python",
   "file_extension": ".py"
  },
  "kernelspec": {
   "name": "python3",
   "display_name": "Python 3.8.10 64-bit"
  },
  "interpreter": {
   "hash": "916dbcbb3f70747c44a77c7bcd40155683ae19c65e1c03b4aa3499c5328201f1"
  }
 },
 "nbformat": 4,
 "nbformat_minor": 2
}