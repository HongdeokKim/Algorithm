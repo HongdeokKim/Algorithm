{
 "cells": [
  {
   "cell_type": "markdown",
   "source": [
    "# 이진 탐색\n",
    "1. 데이터가 이미 정렬되어 있다고 가정!\n",
    "2. 탐색 범위를 절반씩 좁혀가며 데이터를 탐색하는 특징\n",
    "3. 변수 3개 / 시작점, 끝점, 중간점\n",
    "4. 찾으려는 데이터와 중간점 위치에 있는 데이터를 반복적으로 비교하는 방법"
   ],
   "metadata": {}
  }
 ],
 "metadata": {
  "orig_nbformat": 4,
  "language_info": {
   "name": "python",
   "version": "3.8.10"
  },
  "kernelspec": {
   "name": "python3",
   "display_name": "Python 3.8.10 64-bit"
  },
  "interpreter": {
   "hash": "916dbcbb3f70747c44a77c7bcd40155683ae19c65e1c03b4aa3499c5328201f1"
  }
 },
 "nbformat": 4,
 "nbformat_minor": 2
}