{
 "cells": [
  {
   "cell_type": "markdown",
   "source": [
    "# 트리 자료구조\n",
    "1. 이진 탐색은 데이터 정렬을 전제로 둠\n",
    "2. 트리 자료구조를 통해서 데이터를 정렬해두는 경우가 많음\n",
    "3. 루트 노드, 서브 트리, 단말 노드...\n",
    "## 이진 탐색 트리\n",
    "1. 부모 노드보다 왼쪽 자식 노드가 작음\n",
    "2. 부모 노드보다 오론쪽 자식 노드가 큼"
   ],
   "metadata": {}
  }
 ],
 "metadata": {
  "orig_nbformat": 4,
  "language_info": {
   "name": "python",
   "version": "3.8.10"
  },
  "kernelspec": {
   "name": "python3",
   "display_name": "Python 3.8.10 64-bit"
  },
  "interpreter": {
   "hash": "916dbcbb3f70747c44a77c7bcd40155683ae19c65e1c03b4aa3499c5328201f1"
  }
 },
 "nbformat": 4,
 "nbformat_minor": 2
}