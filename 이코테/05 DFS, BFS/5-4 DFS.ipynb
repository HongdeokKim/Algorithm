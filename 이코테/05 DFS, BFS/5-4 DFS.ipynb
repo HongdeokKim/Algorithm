{
 "cells": [
  {
   "cell_type": "markdown",
   "source": [
    "# DFS\n",
    "1. Depth-First Search / 깊이 우선 탐색\n",
    "2. 그래프에서 깊은 부분을 우선적으로 탐색하는 알고리즘\n",
    "3. 그래프는 Node, Edge로 표현, Node는 Vertex라고도 말함\n",
    "4. 인접 행렬 vs 인접리스트\n",
    "\n"
   ],
   "metadata": {}
  },
  {
   "cell_type": "markdown",
   "source": [
    "## 인접 행렬 방식 예제\n",
    "- 연결이 되지 않은 Edge도 무한의 비용으로 선언해주어야 함\n",
    "- 메모리의 크기"
   ],
   "metadata": {}
  },
  {
   "cell_type": "code",
   "execution_count": 1,
   "source": [
    "inf = 999999999 # 무한의 비용? 연결이 되어 있지 않은 Node를 의미함\n",
    "\n",
    "graph = [ # 본인 0\n",
    "    [0, 1, 2], # 인덱스로 접근, [0][1]의 거리는 1\n",
    "    [4, 0, inf],\n",
    "    [5, inf, 0]\n",
    "]\n",
    "\n",
    "print(graph)"
   ],
   "outputs": [
    {
     "output_type": "stream",
     "name": "stdout",
     "text": [
      "[[0, 1, 2], [4, 5, 999999999], [6, 999999999, 7]]\n"
     ]
    }
   ],
   "metadata": {}
  },
  {
   "cell_type": "markdown",
   "source": [
    "## 인접 리스트 방식 예제\n",
    "- 속도"
   ],
   "metadata": {}
  },
  {
   "cell_type": "code",
   "execution_count": 2,
   "source": [
    "graph = [[], [], []] # 3개의 Node\n",
    "\n",
    "graph[0].append((1, 1)) # 노드: 0 -> 1 /  거리 1\n",
    "graph[0].append((2, 2))\n",
    "\n",
    "graph[1].append((0, 4))\n",
    "\n",
    "graph[2].append((0, 5))\n",
    "\n",
    "print(graph)"
   ],
   "outputs": [
    {
     "output_type": "stream",
     "name": "stdout",
     "text": [
      "[[(1, 1), (2, 2)], [(0, 4)], [(0, 5)]]\n"
     ]
    }
   ],
   "metadata": {}
  }
 ],
 "metadata": {
  "orig_nbformat": 4,
  "language_info": {
   "name": "python",
   "version": "3.8.10",
   "mimetype": "text/x-python",
   "codemirror_mode": {
    "name": "ipython",
    "version": 3
   },
   "pygments_lexer": "ipython3",
   "nbconvert_exporter": "python",
   "file_extension": ".py"
  },
  "kernelspec": {
   "name": "python3",
   "display_name": "Python 3.8.10 64-bit"
  },
  "interpreter": {
   "hash": "916dbcbb3f70747c44a77c7bcd40155683ae19c65e1c03b4aa3499c5328201f1"
  }
 },
 "nbformat": 4,
 "nbformat_minor": 2
}