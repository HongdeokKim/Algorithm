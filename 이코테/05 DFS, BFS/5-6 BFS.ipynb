{
 "cells": [
  {
   "cell_type": "markdown",
   "source": [
    "# BFS\n",
    "1. Breadth First Search / 너비 우선 탐색\n",
    "2. 가까운 노드부터 탐색하는 알고리즘\n",
    "3. Queue\n",
    "4. 보통 DFS를 재귀로 구현하면 deque 라이브러리를 사용하는 DFS보다 느림\n"
   ],
   "metadata": {}
  },
  {
   "cell_type": "markdown",
   "source": [
    "## BFS 예제"
   ],
   "metadata": {}
  },
  {
   "cell_type": "code",
   "execution_count": 1,
   "source": [
    "# 너비 우선 탐색\n",
    "\n",
    "from collections import deque\n",
    "\n",
    "def bfs(graph, start, visited):\n",
    "    queue = deque([start]) # deque에 입력받은 노드를 넣어줌\n",
    "    visited[start] = True\n",
    "\n",
    "    while queue: # Queue가 없을 때까지 반복\n",
    "        v = queue.popleft()\n",
    "        print(v, end=' ')\n",
    "\n",
    "        for i in graph[v]:\n",
    "            if not visited[i]:\n",
    "                queue.append(i) # 방문하지 않은 노드라면 Queue에 추가\n",
    "                visited[i] = True # DFS와 다르게 반복문이기에 살짝 다름\n",
    "\n",
    "graph = [\n",
    "    [],\n",
    "    [2, 3, 8], # graph[1]은 2, 3, 8 노드와 연결되어있음\n",
    "    [1, 7],\n",
    "    [1, 4, 5],\n",
    "    [3, 5],\n",
    "    [3, 4],\n",
    "    [7],\n",
    "    [2, 6, 8],\n",
    "    [1, 7]\n",
    "]\n",
    "\n",
    "visited = [False] * 9\n",
    "bfs(graph, 1, visited)"
   ],
   "outputs": [
    {
     "output_type": "stream",
     "name": "stdout",
     "text": [
      "deque([1])\n"
     ]
    }
   ],
   "metadata": {}
  }
 ],
 "metadata": {
  "orig_nbformat": 4,
  "language_info": {
   "name": "python",
   "version": "3.8.10",
   "mimetype": "text/x-python",
   "codemirror_mode": {
    "name": "ipython",
    "version": 3
   },
   "pygments_lexer": "ipython3",
   "nbconvert_exporter": "python",
   "file_extension": ".py"
  },
  "kernelspec": {
   "name": "python3",
   "display_name": "Python 3.8.10 64-bit"
  },
  "interpreter": {
   "hash": "916dbcbb3f70747c44a77c7bcd40155683ae19c65e1c03b4aa3499c5328201f1"
  }
 },
 "nbformat": 4,
 "nbformat_minor": 2
}