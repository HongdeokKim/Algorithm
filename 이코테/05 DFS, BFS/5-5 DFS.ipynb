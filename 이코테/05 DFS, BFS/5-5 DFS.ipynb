{
 "cells": [
  {
   "cell_type": "markdown",
   "source": [
    "# DFS\n",
    "1. Depth-First Search / 깊이 우선 탐색\n",
    "2. 그래프에서 깊은 부분을 우선적으로 탐색하는 알고리즘\n",
    "4. 인접 행렬 vs 인접리스트\n",
    "5. Stack\n"
   ],
   "metadata": {}
  },
  {
   "cell_type": "markdown",
   "source": [
    "## DFS 예제"
   ],
   "metadata": {}
  },
  {
   "cell_type": "code",
   "execution_count": 1,
   "source": [
    "# 깊이 우선 탐색\n",
    "\n",
    "def dfs(graph, v, visited):\n",
    "    visited[v] = True # v번째 노드를 방문함\n",
    "    print(v, end=' ')\n",
    "\n",
    "    for i in graph[v]:\n",
    "        if not visited[i]: # 해당 노드를 방문하지 않았다면\n",
    "            dfs(graph, i, visited) # 해당 노드에서 다시 시작\n",
    "\n",
    "graph = [\n",
    "    [],\n",
    "    [2, 3, 8], # graph[1]은 2, 3, 8 노드와 연결되어있음\n",
    "    [1, 7],\n",
    "    [1, 4, 5],\n",
    "    [3, 5],\n",
    "    [3, 4],\n",
    "    [7],\n",
    "    [2, 6, 8],\n",
    "    [1, 7]\n",
    "]\n",
    "\n",
    "visited = [False] * 9 # 처음에는 아무것도 방문하지 않음 / 1~8의 인덱스를 사용하기 위함\n",
    "dfs(graph, 1, visited) # 시작은 1번노드부터\n",
    "\n",
    "# 계속 한 노드에서 방문하지 않은걸로 들어가다가 끝을 만나면 다시 돌아오는"
   ],
   "outputs": [
    {
     "output_type": "stream",
     "name": "stdout",
     "text": [
      "1 2 7 6 8 3 4 5 "
     ]
    }
   ],
   "metadata": {}
  }
 ],
 "metadata": {
  "orig_nbformat": 4,
  "language_info": {
   "name": "python",
   "version": "3.8.10",
   "mimetype": "text/x-python",
   "codemirror_mode": {
    "name": "ipython",
    "version": 3
   },
   "pygments_lexer": "ipython3",
   "nbconvert_exporter": "python",
   "file_extension": ".py"
  },
  "kernelspec": {
   "name": "python3",
   "display_name": "Python 3.8.10 64-bit"
  },
  "interpreter": {
   "hash": "916dbcbb3f70747c44a77c7bcd40155683ae19c65e1c03b4aa3499c5328201f1"
  }
 },
 "nbformat": 4,
 "nbformat_minor": 2
}