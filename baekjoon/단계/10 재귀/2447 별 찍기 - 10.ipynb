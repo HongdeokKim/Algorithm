{
 "metadata": {
  "language_info": {
   "codemirror_mode": {
    "name": "ipython",
    "version": 3
   },
   "file_extension": ".py",
   "mimetype": "text/x-python",
   "name": "python",
   "nbconvert_exporter": "python",
   "pygments_lexer": "ipython3",
   "version": "3.8.3"
  },
  "orig_nbformat": 4,
  "kernelspec": {
   "name": "python3",
   "display_name": "Python 3.8.3 64-bit ('base': conda)"
  },
  "interpreter": {
   "hash": "dca0ade3e726a953b501b15e8e990130d2b7799f14cfd9f4271676035ebe5511"
  }
 },
 "nbformat": 4,
 "nbformat_minor": 2,
 "cells": [
  {
   "cell_type": "code",
   "execution_count": 27,
   "metadata": {},
   "outputs": [],
   "source": [
    "# print 입출력 함수가 런타임에 많은 시간을 차지함\n",
    "# 같은 풀이인데 답이 안나오면 Pypy로 돌려보자\n",
    "# join을 통한 입출력 시간 줄이기"
   ]
  },
  {
   "cell_type": "code",
   "execution_count": 28,
   "metadata": {
    "tags": []
   },
   "outputs": [
    {
     "output_type": "stream",
     "name": "stdout",
     "text": [
      "***\n* *\n***\n"
     ]
    }
   ],
   "source": [
    "N = int(input())\n",
    "\n",
    "def solve(Row, Column, num):\n",
    "    if (i // num) % 3 == 1 and (j // num) % 3 == 1:\n",
    "        print(' ', end='')\n",
    "    else:\n",
    "        if num // 3 == 0:\n",
    "            print('*', end='')\n",
    "        else:\n",
    "            solve(Row, Column, num // 3)\n",
    "\n",
    "for i in range(N):\n",
    "    for j in range(N):\n",
    "        solve(i, j, N)\n",
    "    print()"
   ]
  },
  {
   "cell_type": "code",
   "execution_count": 3,
   "metadata": {},
   "outputs": [
    {
     "output_type": "stream",
     "name": "stdout",
     "text": [
      "showshow"
     ]
    }
   ],
   "source": [
    "print(\"show\", end='')\n",
    "print(\"show\", end='')"
   ]
  },
  {
   "cell_type": "code",
   "execution_count": 26,
   "metadata": {},
   "outputs": [
    {
     "output_type": "stream",
     "name": "stdout",
     "text": [
      "[[0, 0, 0], [0, 0, 0], [0, 0, 0]]\n***\n* *\n***\n"
     ]
    }
   ],
   "source": [
    "def draw_star(n) :\n",
    "    global Map\n",
    "    \n",
    "    if n == 3 :\n",
    "        Map[0][:3] = Map[2][:3] = [1]*3\n",
    "        Map[1][:3] = [1, 0, 1]\n",
    "        return\n",
    "\n",
    "    a = n//3\n",
    "    draw_star(n//3)\n",
    "    for i in range(3) :\n",
    "        for j in range(3) :\n",
    "            if i == 1 and j == 1 :\n",
    "                continue\n",
    "            for k in range(a) :\n",
    "                Map[a*i+k][a*j:a*(j+1)] = Map[k][:a] # 핵심 아이디어\n",
    "\n",
    "N = int(input())      \n",
    "\n",
    "# 메인 데이터 선언\n",
    "Map = [[0 for i in range(N)] for i in range(N)]\n",
    "draw_star(N)\n",
    "\n",
    "for i in Map :\n",
    "    for j in i :\n",
    "        if j :\n",
    "            print('*', end = '')\n",
    "        else :\n",
    "            print(' ', end = '')\n",
    "    print()"
   ]
  },
  {
   "cell_type": "code",
   "execution_count": 42,
   "metadata": {},
   "outputs": [
    {
     "output_type": "stream",
     "name": "stdout",
     "text": [
      "[('***', '***', '***'), ('* *', '* *', '* *'), ('***', '***', '***')]\n3\n['*********', '* ** ** *', '*********']\n*********\n* ** ** *\n*********\n***   ***\n* *   * *\n***   ***\n*********\n* ** ** *\n*********\n"
     ]
    }
   ],
   "source": [
    "a=int(input())\n",
    "\n",
    "def s(n):\n",
    " if n==3:\n",
    "     return['***','* *','***']\n",
    " x=s(n//3)\n",
    " y=list(zip(x,x,x))\n",
    " print(y)\n",
    " print(len(y))\n",
    " for i in range(len(y)):\n",
    "     y[i]=''.join(y[i])\n",
    " print(y)\n",
    " z=list(zip(x,[' '*(n//3)]*(n//3),x))\n",
    " for i in range(len(z)):\n",
    "     z[i]=''.join(z[i])\n",
    " return y+z+y\n",
    "print('\\n'.join(s(a)))"
   ]
  },
  {
   "cell_type": "code",
   "execution_count": 38,
   "metadata": {},
   "outputs": [
    {
     "output_type": "execute_result",
     "data": {
      "text/plain": [
       "'abc'"
      ]
     },
     "metadata": {},
     "execution_count": 38
    }
   ],
   "source": [
    "''.join(['a', 'b', 'c'])"
   ]
  },
  {
   "cell_type": "code",
   "execution_count": null,
   "metadata": {},
   "outputs": [],
   "source": []
  }
 ]
}