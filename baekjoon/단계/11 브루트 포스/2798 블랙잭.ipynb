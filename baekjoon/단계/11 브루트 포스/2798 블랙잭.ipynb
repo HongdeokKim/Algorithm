{
 "metadata": {
  "language_info": {
   "codemirror_mode": {
    "name": "ipython",
    "version": 3
   },
   "file_extension": ".py",
   "mimetype": "text/x-python",
   "name": "python",
   "nbconvert_exporter": "python",
   "pygments_lexer": "ipython3",
   "version": "3.8.3"
  },
  "orig_nbformat": 4,
  "kernelspec": {
   "name": "python3",
   "display_name": "Python 3.8.3 64-bit ('base': conda)"
  },
  "interpreter": {
   "hash": "dca0ade3e726a953b501b15e8e990130d2b7799f14cfd9f4271676035ebe5511"
  }
 },
 "nbformat": 4,
 "nbformat_minor": 2,
 "cells": [
  {
   "cell_type": "code",
   "execution_count": null,
   "metadata": {},
   "outputs": [],
   "source": [
    "def solve():\n",
    "    N, M = map(int, input().split())\n",
    "    l = list(map(int, input().split()))\n",
    "    result = 0\n",
    "    for i in range(N - 2):\n",
    "        for j in range(i + 1, N - 1):\n",
    "            for k in range(j + 1, N):\n",
    "                temp = l[i] + l[j] + l[k]\n",
    "                if 0 <= M - temp and temp >= result:\n",
    "                    result = temp\n",
    "    return result\n",
    "print(solve())"
   ]
  }
 ]
}