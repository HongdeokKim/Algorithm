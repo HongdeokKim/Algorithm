{
 "metadata": {
  "language_info": {
   "codemirror_mode": {
    "name": "ipython",
    "version": 3
   },
   "file_extension": ".py",
   "mimetype": "text/x-python",
   "name": "python",
   "nbconvert_exporter": "python",
   "pygments_lexer": "ipython3",
   "version": "3.8.3"
  },
  "orig_nbformat": 4,
  "kernelspec": {
   "name": "python3",
   "display_name": "Python 3.8.3 64-bit ('base': conda)"
  },
  "interpreter": {
   "hash": "dca0ade3e726a953b501b15e8e990130d2b7799f14cfd9f4271676035ebe5511"
  }
 },
 "nbformat": 4,
 "nbformat_minor": 2,
 "cells": [
  {
   "cell_type": "code",
   "execution_count": 24,
   "metadata": {},
   "outputs": [
    {
     "output_type": "stream",
     "name": "stdout",
     "text": [
      "2 2 1 2 5 "
     ]
    }
   ],
   "source": [
    "def solve():\n",
    "    N = int(input())\n",
    "    l = []\n",
    "    for i in range(N):\n",
    "        l.append(list(map(int, input().split())))\n",
    "    for i in range(N):\n",
    "        rank = 1\n",
    "        for j in range(N):\n",
    "            if l[i][0] < l[j][0] and l[i][1] < l[j][1]:\n",
    "                rank = rank + 1\n",
    "        print(rank, end = ' ')\n",
    "solve()"
   ]
  }
 ]
}