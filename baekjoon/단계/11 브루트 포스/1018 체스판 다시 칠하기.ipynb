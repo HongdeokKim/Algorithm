{
 "metadata": {
  "language_info": {
   "codemirror_mode": {
    "name": "ipython",
    "version": 3
   },
   "file_extension": ".py",
   "mimetype": "text/x-python",
   "name": "python",
   "nbconvert_exporter": "python",
   "pygments_lexer": "ipython3",
   "version": "3.8.3"
  },
  "orig_nbformat": 4,
  "kernelspec": {
   "name": "python3",
   "display_name": "Python 3.8.3 64-bit ('base': conda)"
  },
  "interpreter": {
   "hash": "dca0ade3e726a953b501b15e8e990130d2b7799f14cfd9f4271676035ebe5511"
  }
 },
 "nbformat": 4,
 "nbformat_minor": 2,
 "cells": [
  {
   "cell_type": "code",
   "execution_count": 1,
   "metadata": {},
   "outputs": [
    {
     "output_type": "stream",
     "name": "stdout",
     "text": [
      "12\n"
     ]
    }
   ],
   "source": [
    "def solve():\n",
    "    min_list = []\n",
    "    chess = []\n",
    "    N, M = map(int, input().split())\n",
    "    for i in range(N):\n",
    "        chess.append(input())\n",
    "    for i in range(0, N - 7):\n",
    "        for j in range(0, M - 7):\n",
    "            result_W = 0\n",
    "            result_B = 0\n",
    "            for k in range(0, 8):\n",
    "                for n in range(0, 8):\n",
    "                    if (k + n) % 2 == 0:\n",
    "                        if chess[i + k][j + n] == 'W':\n",
    "                            result_B = result_B + 1\n",
    "                        else:\n",
    "                            result_W = result_W + 1\n",
    "                    else:\n",
    "                        if chess[i + k][j + n] == 'B':\n",
    "                            result_B = result_B + 1\n",
    "                        else:\n",
    "                            result_W = result_W + 1\n",
    "            if result_W < result_B:\n",
    "                min_list.append(result_W)\n",
    "            else:\n",
    "                min_list.append(result_B)\n",
    "    return min(min_list)\n",
    "\n",
    "print(solve())"
   ]
  },
  {
   "cell_type": "code",
   "execution_count": null,
   "metadata": {},
   "outputs": [],
   "source": []
  }
 ]
}