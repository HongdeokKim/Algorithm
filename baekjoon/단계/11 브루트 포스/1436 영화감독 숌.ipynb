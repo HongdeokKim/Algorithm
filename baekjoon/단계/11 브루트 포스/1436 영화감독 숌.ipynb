{
 "metadata": {
  "language_info": {
   "codemirror_mode": {
    "name": "ipython",
    "version": 3
   },
   "file_extension": ".py",
   "mimetype": "text/x-python",
   "name": "python",
   "nbconvert_exporter": "python",
   "pygments_lexer": "ipython3",
   "version": "3.8.3"
  },
  "orig_nbformat": 4,
  "kernelspec": {
   "name": "python3",
   "display_name": "Python 3.8.3 64-bit ('base': conda)"
  },
  "interpreter": {
   "hash": "dca0ade3e726a953b501b15e8e990130d2b7799f14cfd9f4271676035ebe5511"
  }
 },
 "nbformat": 4,
 "nbformat_minor": 2,
 "cells": [
  {
   "cell_type": "code",
   "execution_count": null,
   "source": [
    "def solve():\n",
    "    n = int(input())\n",
    "    cnt = 0\n",
    "    \n",
    "    number = 0\n",
    "    while cnt != n:\n",
    "        number = number + 1\n",
    "        if '666' in str(number):\n",
    "            cnt = cnt + 1\n",
    "    return number\n",
    "print(solve())"
   ],
   "outputs": [],
   "metadata": {}
  }
 ]
}