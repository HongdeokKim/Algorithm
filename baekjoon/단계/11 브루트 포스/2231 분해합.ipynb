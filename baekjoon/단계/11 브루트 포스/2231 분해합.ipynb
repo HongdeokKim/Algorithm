{
 "metadata": {
  "language_info": {
   "codemirror_mode": {
    "name": "ipython",
    "version": 3
   },
   "file_extension": ".py",
   "mimetype": "text/x-python",
   "name": "python",
   "nbconvert_exporter": "python",
   "pygments_lexer": "ipython3",
   "version": "3.8.3"
  },
  "orig_nbformat": 4,
  "kernelspec": {
   "name": "python3",
   "display_name": "Python 3.8.3 64-bit ('base': conda)"
  },
  "interpreter": {
   "hash": "dca0ade3e726a953b501b15e8e990130d2b7799f14cfd9f4271676035ebe5511"
  }
 },
 "nbformat": 4,
 "nbformat_minor": 2,
 "cells": [
  {
   "cell_type": "code",
   "execution_count": null,
   "metadata": {},
   "outputs": [],
   "source": [
    "def solve():\n",
    "    N = int(input())\n",
    "    for n in range(1, N):\n",
    "        i = n\n",
    "        temp = 0\n",
    "        while i != 0:\n",
    "            temp = temp + (i % 10)\n",
    "            i = int(i / 10)\n",
    "        if (temp + n) == N:\n",
    "            return n\n",
    "    return 0\n",
    "\n",
    "print(solve())\n",
    "\n",
    "# 모범답안\n",
    "def solve_m():\n",
    "    N = int(input())\n",
    "    start = max(0, N - 9 * len(str(N)))\n",
    "    for n in range(start, N):\n",
    "        if n + sum(map(int, str(n))) == N:\n",
    "            return n\n",
    "    return 0\n",
    "print(solve_m())"
   ]
  }
 ]
}