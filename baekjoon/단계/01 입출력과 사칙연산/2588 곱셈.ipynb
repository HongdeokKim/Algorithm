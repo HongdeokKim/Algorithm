{
 "metadata": {
  "language_info": {
   "codemirror_mode": {
    "name": "ipython",
    "version": 3
   },
   "file_extension": ".py",
   "mimetype": "text/x-python",
   "name": "python",
   "nbconvert_exporter": "python",
   "pygments_lexer": "ipython3",
   "version": 3
  },
  "orig_nbformat": 4
 },
 "nbformat": 4,
 "nbformat_minor": 2,
 "cells": [
  {
   "cell_type": "code",
   "execution_count": null,
   "metadata": {},
   "outputs": [],
   "source": [
    "X = int(input())\n",
    "Y = int(input())\n",
    "print(X * (Y % 10))\n",
    "print(X * (Y // 10 % 10))\n",
    "print(X * (Y // 100 % 10))\n",
    "print(X * Y)\n",
    "\n",
    "# 리스트, 역으로...\n",
    "#a = int(input())\n",
    "#b = list(map(int,list(input())))\n",
    "#for i in range(3):\n",
    "#\tprint(a*b[2-i])\n",
    "#print(a*(100*b[0]+10*b[1]+b[2]))\n",
    "\n",
    "# 문자열로..\n",
    "#c = int(a) * int(b[2])\n",
    "#d = int(a) * int(b[1])\n",
    "#e = int(a) * int(b[0])\n",
    "#f = int(a) * int(b)"
   ]
  }
 ]
}