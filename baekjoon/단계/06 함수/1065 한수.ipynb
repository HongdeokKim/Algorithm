{
 "metadata": {
  "language_info": {
   "codemirror_mode": {
    "name": "ipython",
    "version": 3
   },
   "file_extension": ".py",
   "mimetype": "text/x-python",
   "name": "python",
   "nbconvert_exporter": "python",
   "pygments_lexer": "ipython3",
   "version": "3.8.3"
  },
  "orig_nbformat": 4,
  "kernelspec": {
   "name": "python3",
   "display_name": "Python 3.8.3 64-bit ('base': conda)"
  },
  "interpreter": {
   "hash": "dca0ade3e726a953b501b15e8e990130d2b7799f14cfd9f4271676035ebe5511"
  }
 },
 "nbformat": 4,
 "nbformat_minor": 2,
 "cells": [
  {
   "cell_type": "code",
   "execution_count": 10,
   "metadata": {
    "tags": []
   },
   "outputs": [
    {
     "output_type": "execute_result",
     "data": {
      "text/plain": [
       "144"
      ]
     },
     "metadata": {},
     "execution_count": 10
    }
   ],
   "source": [
    "def solve(N):\n",
    "    i = 100\n",
    "    cnt = 99\n",
    "    if N <= 99:\n",
    "        return N\n",
    "    elif N == 1000:\n",
    "        return 144\n",
    "    else:\n",
    "        while i <= N:\n",
    "            if ((i//100)%10)-(i // 10)%10 == (i // 10)%10-(i%10):\n",
    "                cnt += 1\n",
    "            i += 1\n",
    "        return cnt\n",
    "print(solve(int(input())))"
   ]
  },
  {
   "cell_type": "code",
   "execution_count": null,
   "metadata": {},
   "outputs": [],
   "source": []
  }
 ]
}