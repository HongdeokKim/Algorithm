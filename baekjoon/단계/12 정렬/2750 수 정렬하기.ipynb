{
 "metadata": {
  "language_info": {
   "codemirror_mode": {
    "name": "ipython",
    "version": 3
   },
   "file_extension": ".py",
   "mimetype": "text/x-python",
   "name": "python",
   "nbconvert_exporter": "python",
   "pygments_lexer": "ipython3",
   "version": 3
  },
  "orig_nbformat": 4
 },
 "nbformat": 4,
 "nbformat_minor": 2,
 "cells": [
  {
   "cell_type": "code",
   "execution_count": null,
   "metadata": {},
   "outputs": [],
   "source": [
    "def solve():\n",
    "    N = int(input())\n",
    "    l = []\n",
    "    for i in range(N):\n",
    "        l.append(int(input()))\n",
    "    l.sort()\n",
    "    for i in range(N):\n",
    "        print(l[i])\n",
    "solve()"
   ]
  }
 ]
}