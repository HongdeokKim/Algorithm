{
 "metadata": {
  "language_info": {
   "codemirror_mode": {
    "name": "ipython",
    "version": 3
   },
   "file_extension": ".py",
   "mimetype": "text/x-python",
   "name": "python",
   "nbconvert_exporter": "python",
   "pygments_lexer": "ipython3",
   "version": "3.8.3"
  },
  "orig_nbformat": 4,
  "kernelspec": {
   "name": "python3",
   "display_name": "Python 3.8.3 64-bit ('base': conda)"
  },
  "interpreter": {
   "hash": "dca0ade3e726a953b501b15e8e990130d2b7799f14cfd9f4271676035ebe5511"
  }
 },
 "nbformat": 4,
 "nbformat_minor": 2,
 "cells": [
  {
   "cell_type": "code",
   "execution_count": 18,
   "metadata": {},
   "outputs": [
    {
     "output_type": "stream",
     "name": "stdout",
     "text": [
      "20 Sunyoung\n21 Junkyu\n21 Dohyun\n"
     ]
    }
   ],
   "source": [
    "# sort, sorted 함수 key 사용법, input with for!\n",
    "\n",
    "N = int(input())\n",
    "l = []\n",
    "for i in range(N):\n",
    "    l.append(input().split())\n",
    "\n",
    "l.sort(key=lambda a: int(a[0]))\n",
    "for i in l:\n",
    "    print(i[0], i[1])"
   ]
  },
  {
   "cell_type": "code",
   "execution_count": 7,
   "metadata": {},
   "outputs": [
    {
     "output_type": "execute_result",
     "data": {
      "text/plain": [
       "[['22', 'aa'], ['33', 'bb']]"
      ]
     },
     "metadata": {},
     "execution_count": 7
    }
   ],
   "source": [
    "coords = [input() for _ in range(int(input()))]\n",
    "coords.sort(key=lambda a: int(a.split()[0]))\n",
    "print('\\n'.join(coords))"
   ]
  }
 ]
}