{
 "metadata": {
  "language_info": {
   "codemirror_mode": {
    "name": "ipython",
    "version": 3
   },
   "file_extension": ".py",
   "mimetype": "text/x-python",
   "name": "python",
   "nbconvert_exporter": "python",
   "pygments_lexer": "ipython3",
   "version": "3.8.3"
  },
  "orig_nbformat": 4,
  "kernelspec": {
   "name": "python3",
   "display_name": "Python 3.8.3 64-bit ('base': conda)"
  },
  "interpreter": {
   "hash": "dca0ade3e726a953b501b15e8e990130d2b7799f14cfd9f4271676035ebe5511"
  }
 },
 "nbformat": 4,
 "nbformat_minor": 2,
 "cells": [
  {
   "cell_type": "code",
   "execution_count": null,
   "metadata": {},
   "outputs": [],
   "source": [
    "N, M = list(map(int, input().split()))\n",
    "num = list(map(int, input().split()))\n",
    "for i in range(1, N + 1):\n",
    "    print(i)"
   ]
  },
  {
   "cell_type": "code",
   "execution_count": null,
   "metadata": {},
   "outputs": [],
   "source": [
    "def solve():\n",
    "    N, M = map(int, input().split())\n",
    "    l = list(map(int, input().split()))\n",
    "    result = 0\n",
    "    for i in range(N - 2):\n",
    "        for j in range(i + 1, N - 1):\n",
    "            for k in range(j + 1, N):\n",
    "                temp = l[i] + l[j] + l[k]\n",
    "                if 0 <= M - temp and temp >= result:\n",
    "                    result = temp\n",
    "    return result\n",
    "print(solve())"
   ]
  },
  {
   "cell_type": "code",
   "execution_count": 24,
   "metadata": {},
   "outputs": [
    {
     "output_type": "stream",
     "name": "stdout",
     "text": [
      "2 2 1 2 5 "
     ]
    }
   ],
   "source": [
    "def solve():\n",
    "    N = int(input())\n",
    "    l = []\n",
    "    for i in range(N):\n",
    "        l.append(list(map(int, input().split())))\n",
    "    for i in range(N):\n",
    "        rank = 1\n",
    "        for j in range(N):\n",
    "            if l[i][0] < l[j][0] and l[i][1] < l[j][1]:\n",
    "                rank = rank + 1\n",
    "        print(rank, end = ' ')\n",
    "solve()"
   ]
  },
  {
   "cell_type": "code",
   "execution_count": null,
   "metadata": {},
   "outputs": [],
   "source": [
    "def solve():\n",
    "    N = int(input())\n",
    "    for n in range(1, N):\n",
    "        i = n\n",
    "        temp = 0\n",
    "        while i != 0:\n",
    "            temp = temp + (i % 10)\n",
    "            i = int(i / 10)\n",
    "        if (temp + n) == N:\n",
    "            return n\n",
    "    return 0\n",
    "\n",
    "print(solve())\n",
    "\n",
    "# 모범답안\n",
    "def solve_m():\n",
    "    N = int(input())\n",
    "    start = max(0, N - 9 * len(str(N)))\n",
    "    for n in range(start, N):\n",
    "        if n + sum(map(int, str(n))) == N:\n",
    "            return n\n",
    "    return 0\n",
    "print(solve_m())"
   ]
  },
  {
   "cell_type": "code",
   "execution_count": 1,
   "metadata": {},
   "outputs": [
    {
     "output_type": "error",
     "ename": "ValueError",
     "evalue": "not enough values to unpack (expected 2, got 0)",
     "traceback": [
      "\u001b[0;31m---------------------------------------------------------------------------\u001b[0m",
      "\u001b[0;31mValueError\u001b[0m                                Traceback (most recent call last)",
      "\u001b[0;32m<ipython-input-1-25c2d24a2bf1>\u001b[0m in \u001b[0;36m<module>\u001b[0;34m\u001b[0m\n\u001b[1;32m     27\u001b[0m     \u001b[0;32mreturn\u001b[0m \u001b[0mmin\u001b[0m\u001b[0;34m(\u001b[0m\u001b[0mmin_list\u001b[0m\u001b[0;34m)\u001b[0m\u001b[0;34m\u001b[0m\u001b[0;34m\u001b[0m\u001b[0m\n\u001b[1;32m     28\u001b[0m \u001b[0;34m\u001b[0m\u001b[0m\n\u001b[0;32m---> 29\u001b[0;31m \u001b[0mprint\u001b[0m\u001b[0;34m(\u001b[0m\u001b[0msolve\u001b[0m\u001b[0;34m(\u001b[0m\u001b[0;34m)\u001b[0m\u001b[0;34m)\u001b[0m\u001b[0;34m\u001b[0m\u001b[0;34m\u001b[0m\u001b[0m\n\u001b[0m",
      "\u001b[0;32m<ipython-input-1-25c2d24a2bf1>\u001b[0m in \u001b[0;36msolve\u001b[0;34m()\u001b[0m\n\u001b[1;32m      2\u001b[0m     \u001b[0mmin_list\u001b[0m \u001b[0;34m=\u001b[0m \u001b[0;34m[\u001b[0m\u001b[0;34m]\u001b[0m\u001b[0;34m\u001b[0m\u001b[0;34m\u001b[0m\u001b[0m\n\u001b[1;32m      3\u001b[0m     \u001b[0mchess\u001b[0m \u001b[0;34m=\u001b[0m \u001b[0;34m[\u001b[0m\u001b[0;34m]\u001b[0m\u001b[0;34m\u001b[0m\u001b[0;34m\u001b[0m\u001b[0m\n\u001b[0;32m----> 4\u001b[0;31m     \u001b[0mN\u001b[0m\u001b[0;34m,\u001b[0m \u001b[0mM\u001b[0m \u001b[0;34m=\u001b[0m \u001b[0mmap\u001b[0m\u001b[0;34m(\u001b[0m\u001b[0mint\u001b[0m\u001b[0;34m,\u001b[0m \u001b[0minput\u001b[0m\u001b[0;34m(\u001b[0m\u001b[0;34m)\u001b[0m\u001b[0;34m.\u001b[0m\u001b[0msplit\u001b[0m\u001b[0;34m(\u001b[0m\u001b[0;34m)\u001b[0m\u001b[0;34m)\u001b[0m\u001b[0;34m\u001b[0m\u001b[0;34m\u001b[0m\u001b[0m\n\u001b[0m\u001b[1;32m      5\u001b[0m     \u001b[0;32mfor\u001b[0m \u001b[0mi\u001b[0m \u001b[0;32min\u001b[0m \u001b[0mrange\u001b[0m\u001b[0;34m(\u001b[0m\u001b[0mN\u001b[0m\u001b[0;34m)\u001b[0m\u001b[0;34m:\u001b[0m\u001b[0;34m\u001b[0m\u001b[0;34m\u001b[0m\u001b[0m\n\u001b[1;32m      6\u001b[0m         \u001b[0mchess\u001b[0m\u001b[0;34m.\u001b[0m\u001b[0mappend\u001b[0m\u001b[0;34m(\u001b[0m\u001b[0minput\u001b[0m\u001b[0;34m(\u001b[0m\u001b[0;34m)\u001b[0m\u001b[0;34m)\u001b[0m\u001b[0;34m\u001b[0m\u001b[0;34m\u001b[0m\u001b[0m\n",
      "\u001b[0;31mValueError\u001b[0m: not enough values to unpack (expected 2, got 0)"
     ]
    }
   ],
   "source": [
    "def solve():\n",
    "    min_list = []\n",
    "    chess = []\n",
    "    N, M = map(int, input().split())\n",
    "    for i in range(N):\n",
    "        chess.append(input())\n",
    "    for i in range(0, N - 7):\n",
    "        for j in range(0, M - 7):\n",
    "            result_W = 0\n",
    "            result_B = 0\n",
    "            for k in range(0, 8):\n",
    "                for n in range(0, 8):\n",
    "                    if (k + n) % 2 == 0:\n",
    "                        if chess[i + k][j + n] == 'W':\n",
    "                            result_B = result_B + 1\n",
    "                        else:\n",
    "                            result_W = result_W + 1\n",
    "                    else:\n",
    "                        if chess[i + k][j + n] == 'B':\n",
    "                            result_B = result_B + 1\n",
    "                        else:\n",
    "                            result_W = result_W + 1\n",
    "            if result_W < result_B:\n",
    "                min_list.append(result_W)\n",
    "            else:\n",
    "                min_list.append(result_B)\n",
    "    return min(min_list)\n",
    "\n",
    "print(solve())"
   ]
  },
  {
   "cell_type": "code",
   "execution_count": 22,
   "metadata": {},
   "outputs": [
    {
     "output_type": "stream",
     "name": "stdout",
     "text": [
      "666\n"
     ]
    }
   ],
   "source": [
    "def solve():\n",
    "    n = int(input())\n",
    "    cnt = 0\n",
    "    number = 0\n",
    "    while cnt != n:\n",
    "        number = number + 1\n",
    "        if '666' in str(number):\n",
    "            cnt = cnt + 1\n",
    "    return number\n",
    "print(solve())\n",
    "# 규칙성을 찾거나, "
   ]
  }
 ]
}